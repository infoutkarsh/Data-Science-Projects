{
 "cells": [
  {
   "cell_type": "code",
   "execution_count": 1,
   "id": "341b72c4",
   "metadata": {},
   "outputs": [],
   "source": [
    "import numpy as np\n",
    "import pandas as pd\n",
    "from scipy import stats\n",
    "import matplotlib.pyplot as plt"
   ]
  },
  {
   "cell_type": "code",
   "execution_count": 2,
   "id": "e63501e6",
   "metadata": {},
   "outputs": [
    {
     "data": {
      "text/html": [
       "<div>\n",
       "<style scoped>\n",
       "    .dataframe tbody tr th:only-of-type {\n",
       "        vertical-align: middle;\n",
       "    }\n",
       "\n",
       "    .dataframe tbody tr th {\n",
       "        vertical-align: top;\n",
       "    }\n",
       "\n",
       "    .dataframe thead th {\n",
       "        text-align: right;\n",
       "    }\n",
       "</style>\n",
       "<table border=\"1\" class=\"dataframe\">\n",
       "  <thead>\n",
       "    <tr style=\"text-align: right;\">\n",
       "      <th></th>\n",
       "      <th>Obs</th>\n",
       "      <th>y</th>\n",
       "      <th>x1</th>\n",
       "      <th>x2</th>\n",
       "      <th>x3</th>\n",
       "      <th>x4</th>\n",
       "      <th>x5</th>\n",
       "      <th>x6</th>\n",
       "    </tr>\n",
       "  </thead>\n",
       "  <tbody>\n",
       "    <tr>\n",
       "      <th>0</th>\n",
       "      <td>1</td>\n",
       "      <td>4540</td>\n",
       "      <td>2140</td>\n",
       "      <td>20640</td>\n",
       "      <td>30250</td>\n",
       "      <td>205</td>\n",
       "      <td>1732</td>\n",
       "      <td>99</td>\n",
       "    </tr>\n",
       "    <tr>\n",
       "      <th>1</th>\n",
       "      <td>2</td>\n",
       "      <td>4315</td>\n",
       "      <td>2016</td>\n",
       "      <td>20280</td>\n",
       "      <td>30010</td>\n",
       "      <td>195</td>\n",
       "      <td>1697</td>\n",
       "      <td>100</td>\n",
       "    </tr>\n",
       "    <tr>\n",
       "      <th>2</th>\n",
       "      <td>3</td>\n",
       "      <td>4095</td>\n",
       "      <td>1905</td>\n",
       "      <td>19860</td>\n",
       "      <td>29780</td>\n",
       "      <td>184</td>\n",
       "      <td>1662</td>\n",
       "      <td>97</td>\n",
       "    </tr>\n",
       "    <tr>\n",
       "      <th>3</th>\n",
       "      <td>4</td>\n",
       "      <td>3650</td>\n",
       "      <td>1675</td>\n",
       "      <td>18980</td>\n",
       "      <td>29330</td>\n",
       "      <td>164</td>\n",
       "      <td>1598</td>\n",
       "      <td>97</td>\n",
       "    </tr>\n",
       "    <tr>\n",
       "      <th>4</th>\n",
       "      <td>5</td>\n",
       "      <td>3200</td>\n",
       "      <td>1474</td>\n",
       "      <td>18100</td>\n",
       "      <td>28960</td>\n",
       "      <td>144</td>\n",
       "      <td>1541</td>\n",
       "      <td>97</td>\n",
       "    </tr>\n",
       "  </tbody>\n",
       "</table>\n",
       "</div>"
      ],
      "text/plain": [
       "   Obs     y    x1     x2     x3   x4    x5   x6\n",
       "0    1  4540  2140  20640  30250  205  1732   99\n",
       "1    2  4315  2016  20280  30010  195  1697  100\n",
       "2    3  4095  1905  19860  29780  184  1662   97\n",
       "3    4  3650  1675  18980  29330  164  1598   97\n",
       "4    5  3200  1474  18100  28960  144  1541   97"
      ]
     },
     "execution_count": 2,
     "metadata": {},
     "output_type": "execute_result"
    }
   ],
   "source": [
    "df=pd.read_csv(\"ML.csv\")\n",
    "df.head()"
   ]
  },
  {
   "cell_type": "code",
   "execution_count": 6,
   "id": "67cd2819",
   "metadata": {},
   "outputs": [
    {
     "name": "stdout",
     "output_type": "stream",
     "text": [
      "Number of outliers: 6\n",
      "Outlier indices: [(5, 7), (6, 7), (7, 7), (8, 7), (9, 4), (9, 7)]\n"
     ]
    }
   ],
   "source": [
    "#Identify outliers using Z-score\n",
    "z_scores = np.abs(stats.zscore(df))\n",
    "threshold = 2  # You can adjust this threshold based on your dataset\n",
    "\n",
    "outliers = np.where(z_scores > threshold)\n",
    "outlier_indices = list(zip(outliers[0], outliers[1]))\n",
    "\n",
    "print(\"Number of outliers:\", len(outlier_indices))\n",
    "print(\"Outlier indices:\", outlier_indices)\n"
   ]
  },
  {
   "cell_type": "code",
   "execution_count": null,
   "id": "ddfe3651",
   "metadata": {},
   "outputs": [],
   "source": []
  }
 ],
 "metadata": {
  "kernelspec": {
   "display_name": "Python 3 (ipykernel)",
   "language": "python",
   "name": "python3"
  },
  "language_info": {
   "codemirror_mode": {
    "name": "ipython",
    "version": 3
   },
   "file_extension": ".py",
   "mimetype": "text/x-python",
   "name": "python",
   "nbconvert_exporter": "python",
   "pygments_lexer": "ipython3",
   "version": "3.11.5"
  }
 },
 "nbformat": 4,
 "nbformat_minor": 5
}
